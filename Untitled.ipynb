{
 "cells": [
  {
   "cell_type": "code",
   "execution_count": 1,
   "id": "56a76982-df04-4b11-9e02-572c536060b2",
   "metadata": {},
   "outputs": [
    {
     "name": "stdout",
     "output_type": "stream",
     "text": [
      "ForwardStepCandidates_2.py      forwardselect_q5.py\n",
      "Mattlab_modeling_v5.1.3.ipynb   kennardstonealgorithm.py\n",
      "PCA_Clustering_Neighbors.ipynb  loo_q2.py\n",
      "README.md                       model_oct_bothsubs.xlsx\n",
      "Untitled.ipynb                  modeling_environment.yml\n",
      "\u001b[34m__pycache__\u001b[m\u001b[m/                    modeling_environment_2.yml\n",
      "\u001b[34mdemo\u001b[m\u001b[m/                           \u001b[34mpast_versions\u001b[m\u001b[m/\n",
      "environment_2.yml\n"
     ]
    }
   ],
   "source": [
    "ls"
   ]
  },
  {
   "cell_type": "code",
   "execution_count": 2,
   "id": "b95b47bf-27a3-4440-9aa2-6646300de01f",
   "metadata": {},
   "outputs": [
    {
     "name": "stdout",
     "output_type": "stream",
     "text": [
      "Phosphine_library_DFT_props_191120.xlsx\n",
      "Phosphine_library_explitdata_copy07_29_19.xlsx\n",
      "descriptors.xlsx\n",
      "model_oct_bothsubs copy.xlsx\n",
      "model_oct_bothsubs.xlsx\n",
      "\u001b[34mpython-modeling\u001b[m\u001b[m/\n",
      "threshold_input_exp.csv\n"
     ]
    }
   ],
   "source": [
    "ls .."
   ]
  },
  {
   "cell_type": "code",
   "execution_count": null,
   "id": "2c745dc3-9d09-4a09-9b7c-d1c4e1502414",
   "metadata": {},
   "outputs": [],
   "source": []
  }
 ],
 "metadata": {
  "kernelspec": {
   "display_name": "Python 3",
   "language": "python",
   "name": "python3"
  },
  "language_info": {
   "codemirror_mode": {
    "name": "ipython",
    "version": 3
   },
   "file_extension": ".py",
   "mimetype": "text/x-python",
   "name": "python",
   "nbconvert_exporter": "python",
   "pygments_lexer": "ipython3",
   "version": "3.8.8"
  }
 },
 "nbformat": 4,
 "nbformat_minor": 5
}
