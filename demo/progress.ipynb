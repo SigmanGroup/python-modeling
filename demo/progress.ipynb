{
 "cells": [
  {
   "cell_type": "markdown",
   "id": "9ce232d4-22e4-4f31-9798-79fcee5205c0",
   "metadata": {},
   "source": [
    "This notebook displays my progress with reviewing/rewriting the Matlab_modeling notebook"
   ]
  },
  {
   "cell_type": "code",
   "execution_count": 1,
   "id": "73c254b3-e8ce-4daa-ab05-64b5e96f25b6",
   "metadata": {},
   "outputs": [],
   "source": [
    "import pandas as pd"
   ]
  },
  {
   "cell_type": "code",
   "execution_count": 68,
   "id": "cc70aac7-8094-4e93-806f-38fc9eae5318",
   "metadata": {},
   "outputs": [],
   "source": [
    "def update_and_display(df):\n",
    "    df.to_csv(\"todo.csv\")\n",
    "    df = pd.read_csv(\"todo.csv\", index_col=0)\n",
    "    return df"
   ]
  },
  {
   "cell_type": "code",
   "execution_count": 72,
   "id": "3ce77c4e-45cc-466d-9910-0b31ec886222",
   "metadata": {},
   "outputs": [
    {
     "data": {
      "text/html": [
       "<div>\n",
       "<style scoped>\n",
       "    .dataframe tbody tr th:only-of-type {\n",
       "        vertical-align: middle;\n",
       "    }\n",
       "\n",
       "    .dataframe tbody tr th {\n",
       "        vertical-align: top;\n",
       "    }\n",
       "\n",
       "    .dataframe thead th {\n",
       "        text-align: right;\n",
       "    }\n",
       "</style>\n",
       "<table border=\"1\" class=\"dataframe\">\n",
       "  <thead>\n",
       "    <tr style=\"text-align: right;\">\n",
       "      <th></th>\n",
       "      <th>task</th>\n",
       "      <th>category</th>\n",
       "      <th>status</th>\n",
       "      <th>file path</th>\n",
       "      <th>demo path</th>\n",
       "      <th>repo</th>\n",
       "      <th>branch</th>\n",
       "      <th>dir</th>\n",
       "    </tr>\n",
       "  </thead>\n",
       "  <tbody>\n",
       "    <tr>\n",
       "      <th>0</th>\n",
       "      <td>single_file</td>\n",
       "      <td>reading_data</td>\n",
       "      <td>done</td>\n",
       "      <td>/Users/annabell/UofU/Sigman/python-modeling/de...</td>\n",
       "      <td>/Users/annabell/UofU/Sigman/python-modeling/de...</td>\n",
       "      <td>python-modeling</td>\n",
       "      <td>anna</td>\n",
       "      <td>demo</td>\n",
       "    </tr>\n",
       "    <tr>\n",
       "      <th>1</th>\n",
       "      <td>multi_files</td>\n",
       "      <td>reading_data</td>\n",
       "      <td>todo</td>\n",
       "      <td>/Users/annabell/UofU/Sigman/python-modeling/de...</td>\n",
       "      <td>NaN</td>\n",
       "      <td>python-modeling</td>\n",
       "      <td>anna</td>\n",
       "      <td>demo</td>\n",
       "    </tr>\n",
       "  </tbody>\n",
       "</table>\n",
       "</div>"
      ],
      "text/plain": [
       "          task      category status  \\\n",
       "0  single_file  reading_data   done   \n",
       "1  multi_files  reading_data   todo   \n",
       "\n",
       "                                           file path  \\\n",
       "0  /Users/annabell/UofU/Sigman/python-modeling/de...   \n",
       "1  /Users/annabell/UofU/Sigman/python-modeling/de...   \n",
       "\n",
       "                                           demo path             repo branch  \\\n",
       "0  /Users/annabell/UofU/Sigman/python-modeling/de...  python-modeling   anna   \n",
       "1                                                NaN  python-modeling   anna   \n",
       "\n",
       "    dir  \n",
       "0  demo  \n",
       "1  demo  "
      ]
     },
     "execution_count": 72,
     "metadata": {},
     "output_type": "execute_result"
    }
   ],
   "source": [
    "update_and_display(pd.read_csv(\"todo.csv\", index_col=0))"
   ]
  },
  {
   "cell_type": "code",
   "execution_count": 73,
   "id": "25dcf0b8-a19e-47b1-a2a2-d94c2e2492d3",
   "metadata": {},
   "outputs": [],
   "source": [
    "#lists of items under each category in matlab_modeling notebook\n",
    "basic_visualization = [\"univar_OG\", \"univar_seaborn\", \"univar_vs\", \n",
    "                       \"bubble_pvp\", \"bubble_vir\",\n",
    "                       \"corr_map_OG\", \"corr_map_seaborn\"]\n",
    "single_node_decision_tree = [\"regresion\", \"descending_class_grps\", \"classificaiton\", \"property_thres\"]\n",
    "data_prep = []\n",
    "lin_mod_feat_select = []\n",
    "ridge_regress = []\n",
    "lasso_feat = []\n",
    "elastic_net = []\n",
    "orthog_match = []\n",
    "property_thres = []\n",
    "non_linear_modeling = []"
   ]
  }
 ],
 "metadata": {
  "kernelspec": {
   "display_name": "Python 3",
   "language": "python",
   "name": "python3"
  },
  "language_info": {
   "codemirror_mode": {
    "name": "ipython",
    "version": 3
   },
   "file_extension": ".py",
   "mimetype": "text/x-python",
   "name": "python",
   "nbconvert_exporter": "python",
   "pygments_lexer": "ipython3",
   "version": "3.8.8"
  }
 },
 "nbformat": 4,
 "nbformat_minor": 5
}
