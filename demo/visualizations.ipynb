{
 "cells": [
  {
   "cell_type": "code",
   "execution_count": 1,
   "id": "4c22e110-a100-4664-8ccd-6853fb3e1ec7",
   "metadata": {},
   "outputs": [
    {
     "name": "stdout",
     "output_type": "stream",
     "text": [
      "[Errno 2] No such file or directory: 'demo'\n",
      "/Users/annabell/UofU/Sigman/python-modeling/demo\n"
     ]
    }
   ],
   "source": [
    "cd demo"
   ]
  },
  {
   "cell_type": "code",
   "execution_count": 2,
   "id": "220f8255-706e-4913-9ef7-260e2b35175c",
   "metadata": {},
   "outputs": [],
   "source": [
    "from visualize import visualize\n",
    "from reading_data import read_excel_file"
   ]
  },
  {
   "cell_type": "markdown",
   "id": "fda8e594-8a27-4f34-a625-d9b501db5198",
   "metadata": {},
   "source": [
    "# get data"
   ]
  },
  {
   "cell_type": "code",
   "execution_count": 3,
   "id": "86fa6895-857e-4172-b1d9-05ed44787bee",
   "metadata": {},
   "outputs": [],
   "source": [
    "read_methods = read_excel_file()"
   ]
  },
  {
   "cell_type": "code",
   "execution_count": 4,
   "id": "e03e855e-030b-4c46-8d74-38ad5428b4f7",
   "metadata": {},
   "outputs": [],
   "source": [
    "header_col = 5\n",
    "rows_start = 0\n",
    "rows_stop = 24\n",
    "cols_start = 2\n",
    "cols_stop = 24"
   ]
  },
  {
   "cell_type": "code",
   "execution_count": 5,
   "id": "307be87d-ae3c-45bb-9ef7-7f532c86b51c",
   "metadata": {},
   "outputs": [],
   "source": [
    "read_methods.read_excel_file(\"../model_oct_bothsubs\"+\".xlsx\", \"bubbleplot\", header_col, rows_start, rows_stop, cols_start, cols_stop)"
   ]
  },
  {
   "cell_type": "code",
   "execution_count": 6,
   "id": "74a6a374-f03a-464e-a27c-96f9092b3b5e",
   "metadata": {},
   "outputs": [
    {
     "data": {
      "text/html": [
       "<div>\n",
       "<style scoped>\n",
       "    .dataframe tbody tr th:only-of-type {\n",
       "        vertical-align: middle;\n",
       "    }\n",
       "\n",
       "    .dataframe tbody tr th {\n",
       "        vertical-align: top;\n",
       "    }\n",
       "\n",
       "    .dataframe thead th {\n",
       "        text-align: right;\n",
       "    }\n",
       "</style>\n",
       "<table border=\"1\" class=\"dataframe\">\n",
       "  <thead>\n",
       "    <tr style=\"text-align: right;\">\n",
       "      <th></th>\n",
       "      <th>s2_1h_%yield</th>\n",
       "      <th>s2_3.5h_%yield(avg)</th>\n",
       "      <th>s2_21h_%yield</th>\n",
       "      <th>s4_1h_%yield</th>\n",
       "      <th>s4_3.5h_%yield(avg)</th>\n",
       "      <th>s4_21h_%yield</th>\n",
       "      <th>virtual</th>\n",
       "      <th>nbo_N_oxamide_max</th>\n",
       "      <th>nbo_aryl_sub_=O_max_max</th>\n",
       "    </tr>\n",
       "  </thead>\n",
       "  <tbody>\n",
       "    <tr>\n",
       "      <th>0</th>\n",
       "      <td>18</td>\n",
       "      <td>55.500000</td>\n",
       "      <td>92</td>\n",
       "      <td>6</td>\n",
       "      <td>27.666667</td>\n",
       "      <td>69</td>\n",
       "      <td>0</td>\n",
       "      <td>-0.59232</td>\n",
       "      <td>-0.89851</td>\n",
       "    </tr>\n",
       "    <tr>\n",
       "      <th>1</th>\n",
       "      <td>9</td>\n",
       "      <td>36.333333</td>\n",
       "      <td>92</td>\n",
       "      <td>6</td>\n",
       "      <td>27.000000</td>\n",
       "      <td>65</td>\n",
       "      <td>0</td>\n",
       "      <td>-0.58780</td>\n",
       "      <td>-0.90730</td>\n",
       "    </tr>\n",
       "    <tr>\n",
       "      <th>2</th>\n",
       "      <td>6</td>\n",
       "      <td>19.666667</td>\n",
       "      <td>73</td>\n",
       "      <td>2</td>\n",
       "      <td>11.333333</td>\n",
       "      <td>57</td>\n",
       "      <td>0</td>\n",
       "      <td>-0.57818</td>\n",
       "      <td>-0.90199</td>\n",
       "    </tr>\n",
       "    <tr>\n",
       "      <th>3</th>\n",
       "      <td>17</td>\n",
       "      <td>57.666667</td>\n",
       "      <td>89</td>\n",
       "      <td>7</td>\n",
       "      <td>35.500000</td>\n",
       "      <td>61</td>\n",
       "      <td>0</td>\n",
       "      <td>-0.59187</td>\n",
       "      <td>-0.89612</td>\n",
       "    </tr>\n",
       "    <tr>\n",
       "      <th>4</th>\n",
       "      <td>8</td>\n",
       "      <td>48.333333</td>\n",
       "      <td>83</td>\n",
       "      <td>3</td>\n",
       "      <td>21.333333</td>\n",
       "      <td>55</td>\n",
       "      <td>0</td>\n",
       "      <td>-0.59182</td>\n",
       "      <td>-0.90570</td>\n",
       "    </tr>\n",
       "  </tbody>\n",
       "</table>\n",
       "</div>"
      ],
      "text/plain": [
       "   s2_1h_%yield  s2_3.5h_%yield(avg)  s2_21h_%yield  s4_1h_%yield  \\\n",
       "0            18            55.500000             92             6   \n",
       "1             9            36.333333             92             6   \n",
       "2             6            19.666667             73             2   \n",
       "3            17            57.666667             89             7   \n",
       "4             8            48.333333             83             3   \n",
       "\n",
       "   s4_3.5h_%yield(avg)  s4_21h_%yield  virtual  nbo_N_oxamide_max  \\\n",
       "0            27.666667             69        0           -0.59232   \n",
       "1            27.000000             65        0           -0.58780   \n",
       "2            11.333333             57        0           -0.57818   \n",
       "3            35.500000             61        0           -0.59187   \n",
       "4            21.333333             55        0           -0.59182   \n",
       "\n",
       "   nbo_aryl_sub_=O_max_max  \n",
       "0                 -0.89851  \n",
       "1                 -0.90730  \n",
       "2                 -0.90199  \n",
       "3                 -0.89612  \n",
       "4                 -0.90570  "
      ]
     },
     "execution_count": 6,
     "metadata": {},
     "output_type": "execute_result"
    }
   ],
   "source": [
    "my_dataframe = read_methods.df.copy()\n",
    "my_dataframe.head()"
   ]
  },
  {
   "cell_type": "markdown",
   "id": "3dc64787-03a6-46a3-b276-f4fc2e23157c",
   "metadata": {},
   "source": [
    "# Visualize"
   ]
  },
  {
   "cell_type": "code",
   "execution_count": 7,
   "id": "c8056d07-cd26-437d-9c29-64601aa5c362",
   "metadata": {},
   "outputs": [],
   "source": [
    "visualize_methods = visualize(my_dataframe)"
   ]
  },
  {
   "cell_type": "markdown",
   "id": "949fc5e4-ce39-40b2-bda4-f6cd3c5ffae3",
   "metadata": {},
   "source": [
    "## exclude a feature"
   ]
  },
  {
   "cell_type": "code",
   "execution_count": 8,
   "id": "b1b2a873-b759-4027-9d81-cc81459c6a49",
   "metadata": {},
   "outputs": [],
   "source": [
    "visualize_methods.exclude_features([\"virtual\"])"
   ]
  },
  {
   "cell_type": "markdown",
   "id": "e44234b7-e409-4442-9d80-6ed09f45a2b3",
   "metadata": {},
   "source": [
    "## Histogram"
   ]
  },
  {
   "cell_type": "markdown",
   "id": "9660a2b7-7955-419d-ba36-120f6e9eaa88",
   "metadata": {},
   "source": [
    "You can plot for one specific column"
   ]
  },
  {
   "cell_type": "code",
   "execution_count": 9,
   "id": "6e6a64bc-188a-4e42-95c5-a2ba937fed49",
   "metadata": {},
   "outputs": [
    {
     "data": {
      "image/png": "[encoded data removed]",
      "text/plain": [
       "<Figure size 432x288 with 1 Axes>"
      ]
     },
     "metadata": {
      "needs_background": "light"
     },
     "output_type": "display_data"
    }
   ],
   "source": [
    "visualize_methods.build_hist([\"s2_21h_%yield\"])"
   ]
  },
  {
   "cell_type": "markdown",
   "id": "22000d15-cb8f-4e4b-bf17-b4edd69be63f",
   "metadata": {},
   "source": [
    "A list of columns produces multiple plots"
   ]
  },
  {
   "cell_type": "code",
   "execution_count": 10,
   "id": "35a07e0f-45fa-409e-826b-2761b4374840",
   "metadata": {},
   "outputs": [],
   "source": [
    "# visualize_methods.build_hist([\"s2_1h_%yield\", \"s2_3.5h_%yield(avg)\", \"s2_21h_%yield\"])"
   ]
  },
  {
   "cell_type": "markdown",
   "id": "825e3a91-f0cb-4059-a43f-092d464d513a",
   "metadata": {},
   "source": [
    "Or all of them: no parameters provides a plot for each column"
   ]
  },
  {
   "cell_type": "code",
   "execution_count": 11,
   "id": "07897cb8-7c6f-4e78-b35b-dd6d29887629",
   "metadata": {},
   "outputs": [],
   "source": [
    "# visualize_methods.build_hist()"
   ]
  },
  {
   "cell_type": "markdown",
   "id": "bf2b0125-2c02-4647-8ee1-b0da0ec541ae",
   "metadata": {},
   "source": [
    "## Univariate Regression Visualization"
   ]
  },
  {
   "cell_type": "markdown",
   "id": "b6b553e6-82e6-4009-b92d-5311172834fa",
   "metadata": {},
   "source": [
    "* if you don't add a list of columns, it will produce a plot for all columns\n",
    "* if you don't specify y, it will be an n-dimensional zero vector.\n",
    "* a list of columns produces multiple plots\n",
    "* if you want all of the columns, don't specify cols, but explicitly specify y. "
   ]
  },
  {
   "cell_type": "code",
   "execution_count": 12,
   "id": "a464395b-9e4c-4c1f-9357-898470212400",
   "metadata": {},
   "outputs": [
    {
     "data": {
      "image/png": "[encoded data removed]",
      "text/plain": [
       "<Figure size 432x288 with 1 Axes>"
      ]
     },
     "metadata": {
      "needs_background": "light"
     },
     "output_type": "display_data"
    }
   ],
   "source": [
    "visualize_methods.build_univar(cols=[\"s2_1h_%yield\"], y=my_dataframe[\"nbo_N_oxamide_max\"])"
   ]
  },
  {
   "cell_type": "markdown",
   "id": "9054de8a-eb4b-4a5a-85c3-4bb2469e026c",
   "metadata": {},
   "source": [
    "Pass in a list of more than one x column name, along with a y column name (un-comment this line):"
   ]
  },
  {
   "cell_type": "code",
   "execution_count": 13,
   "id": "49d5b08c-3ec7-4f9a-961b-650328b4176b",
   "metadata": {},
   "outputs": [],
   "source": [
    "# visualize_methods.build_univar(cols=[\"s2_1h_%yield\", \"s2_21h_%yield\"], y=my_dataframe[\"s2_3.5h_%yield(avg)\"])"
   ]
  },
  {
   "cell_type": "markdown",
   "id": "4e8f1b70-f34d-4984-93a3-bd4e23a07317",
   "metadata": {},
   "source": [
    "Pass in a y column, but no x column names (un-comment this line):"
   ]
  },
  {
   "cell_type": "code",
   "execution_count": 14,
   "id": "a694f4c1-7f17-4a4f-a411-aba24b472fb3",
   "metadata": {},
   "outputs": [],
   "source": [
    "#visualize_methods.build_univar(y=my_dataframe[\"s2_3.5h_%yield(avg)\"])"
   ]
  },
  {
   "cell_type": "markdown",
   "id": "975aedaf-5e76-4cca-b25c-a8d3ab306604",
   "metadata": {},
   "source": [
    "Pass in an x column name, but no y column name (un-comment this line):"
   ]
  },
  {
   "cell_type": "code",
   "execution_count": 15,
   "id": "407d5e9c-ff00-4f1a-a33c-5b0a81305c6a",
   "metadata": {},
   "outputs": [],
   "source": [
    "#visualize_methods.build_univar(cols=[\"s2_1h_%yield\"])"
   ]
  },
  {
   "cell_type": "markdown",
   "id": "84e9b579-e7ae-4f23-909d-806222387725",
   "metadata": {},
   "source": [
    "## Hist & Univariate Regression Plots Side-by-Side"
   ]
  },
  {
   "cell_type": "code",
   "execution_count": 16,
   "id": "6a5976e9-e811-4c17-90f6-b7a9a067ee1e",
   "metadata": {},
   "outputs": [
    {
     "data": {
      "image/png": "[encoded data removed]",
      "text/plain": [
       "<Figure size 432x288 with 2 Axes>"
      ]
     },
     "metadata": {
      "needs_background": "light"
     },
     "output_type": "display_data"
    },
    {
     "data": {
      "image/png": "[encoded data removed]",
      "text/plain": [
       "<Figure size 432x288 with 2 Axes>"
      ]
     },
     "metadata": {
      "needs_background": "light"
     },
     "output_type": "display_data"
    }
   ],
   "source": [
    "visualize_methods.show_hist_univar_pairs([\"s2_1h_%yield\", \"s2_21h_%yield\"], y=my_dataframe[\"nbo_N_oxamide_max\"])"
   ]
  },
  {
   "cell_type": "code",
   "execution_count": null,
   "id": "f234608a-2f7a-446e-8a88-4815a4f36e37",
   "metadata": {},
   "outputs": [],
   "source": []
  },
  {
   "cell_type": "code",
   "execution_count": null,
   "id": "0e440f6d-9947-4efb-81c9-769e4bfdc004",
   "metadata": {},
   "outputs": [],
   "source": []
  }
 ],
 "metadata": {
  "kernelspec": {
   "display_name": "Python 3",
   "language": "python",
   "name": "python3"
  },
  "language_info": {
   "codemirror_mode": {
    "name": "ipython",
    "version": 3
   },
   "file_extension": ".py",
   "mimetype": "text/x-python",
   "name": "python",
   "nbconvert_exporter": "python",
   "pygments_lexer": "ipython3",
   "version": "3.8.8"
  }
 },
 "nbformat": 4,
 "nbformat_minor": 5
}
