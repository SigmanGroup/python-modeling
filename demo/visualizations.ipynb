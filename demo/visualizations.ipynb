{
 "cells": [
  {
   "cell_type": "code",
   "execution_count": 1,
   "id": "4c22e110-a100-4664-8ccd-6853fb3e1ec7",
   "metadata": {},
   "outputs": [
    {
     "name": "stdout",
     "output_type": "stream",
     "text": [
      "[Errno 2] No such file or directory: 'demo'\n",
      "/Users/annabell/UofU/Sigman/python-modeling/demo\n"
     ]
    }
   ],
   "source": [
    "cd demo"
   ]
  },
  {
   "cell_type": "code",
   "execution_count": 2,
   "id": "220f8255-706e-4913-9ef7-260e2b35175c",
   "metadata": {},
   "outputs": [
    {
     "ename": "ModuleNotFoundError",
     "evalue": "No module named 'numpy'",
     "output_type": "error",
     "traceback": [
      "\u001b[0;31m---------------------------------------------------------------------------\u001b[0m",
      "\u001b[0;31mModuleNotFoundError\u001b[0m                       Traceback (most recent call last)",
      "Input \u001b[0;32mIn [2]\u001b[0m, in \u001b[0;36m<cell line: 1>\u001b[0;34m()\u001b[0m\n\u001b[0;32m----> 1\u001b[0m \u001b[38;5;28;01mfrom\u001b[39;00m \u001b[38;5;21;01mvisualize\u001b[39;00m \u001b[38;5;28;01mimport\u001b[39;00m visualize\n\u001b[1;32m      2\u001b[0m \u001b[38;5;28;01mfrom\u001b[39;00m \u001b[38;5;21;01mreading_data\u001b[39;00m \u001b[38;5;28;01mimport\u001b[39;00m read_excel_file\n\u001b[1;32m      3\u001b[0m read_methods \u001b[38;5;241m=\u001b[39m read_excel_file()\n",
      "File \u001b[0;32m~/UofU/Sigman/python-modeling/demo/visualize.py:1\u001b[0m, in \u001b[0;36m<module>\u001b[0;34m\u001b[0m\n\u001b[0;32m----> 1\u001b[0m \u001b[38;5;28;01mimport\u001b[39;00m \u001b[38;5;21;01mnumpy\u001b[39;00m \u001b[38;5;28;01mas\u001b[39;00m \u001b[38;5;21;01mnp\u001b[39;00m\n\u001b[1;32m      2\u001b[0m \u001b[38;5;28;01mimport\u001b[39;00m \u001b[38;5;21;01mmatplotlib\u001b[39;00m\n\u001b[1;32m      3\u001b[0m \u001b[38;5;28;01mimport\u001b[39;00m \u001b[38;5;21;01mmatplotlib\u001b[39;00m\u001b[38;5;21;01m.\u001b[39;00m\u001b[38;5;21;01mpyplot\u001b[39;00m \u001b[38;5;28;01mas\u001b[39;00m \u001b[38;5;21;01mplt\u001b[39;00m\n",
      "\u001b[0;31mModuleNotFoundError\u001b[0m: No module named 'numpy'"
     ]
    }
   ],
   "source": [
    "from visualize import visualize\n",
    "from reading_data import read_excel_file\n",
    "read_methods = read_excel_file()"
   ]
  },
  {
   "cell_type": "markdown",
   "id": "fda8e594-8a27-4f34-a625-d9b501db5198",
   "metadata": {},
   "source": [
    "# Get data using read_excel_file.py\n",
    "\n",
    "Including some basic data wrangling you can do using reading_data. You can learn more about these methods in data_wrangling.ipynb"
   ]
  },
  {
   "cell_type": "code",
   "execution_count": null,
   "id": "e03e855e-030b-4c46-8d74-38ad5428b4f7",
   "metadata": {},
   "outputs": [],
   "source": [
    "header_col = 5\n",
    "rows_start = 0\n",
    "rows_stop = 24\n",
    "cols_start = 2\n",
    "cols_stop = 24"
   ]
  },
  {
   "cell_type": "code",
   "execution_count": null,
   "id": "307be87d-ae3c-45bb-9ef7-7f532c86b51c",
   "metadata": {},
   "outputs": [],
   "source": [
    "read_methods.read_excel_file(\"../model_oct_bothsubs\"+\".xlsx\", \"bubbleplot\", header_col, rows_start, rows_stop, cols_start, cols_stop)\n",
    "my_dataframe = read_methods.get_dataframe()\n",
    "my_dataframe.head()"
   ]
  },
  {
   "cell_type": "markdown",
   "id": "3dc64787-03a6-46a3-b276-f4fc2e23157c",
   "metadata": {},
   "source": [
    "# Visualize"
   ]
  },
  {
   "cell_type": "code",
   "execution_count": null,
   "id": "c8056d07-cd26-437d-9c29-64601aa5c362",
   "metadata": {},
   "outputs": [],
   "source": [
    "visualize_methods = visualize(my_dataframe)"
   ]
  },
  {
   "cell_type": "markdown",
   "id": "0493b4f2-ebed-430d-a9ed-f81bc3cd8cd5",
   "metadata": {},
   "source": [
    "## Feature Selection For Plots"
   ]
  },
  {
   "cell_type": "markdown",
   "id": "7e85ea90-902a-4f3d-bd2c-8f97636e9a10",
   "metadata": {},
   "source": [
    "While I recommend using the pre-processing class to do feature exclusion, etc, for conventience I added some functions here too."
   ]
  },
  {
   "cell_type": "markdown",
   "id": "1194ed84-d367-45fc-9af0-98fd99b7eede",
   "metadata": {},
   "source": [
    "### R^2 Threshold "
   ]
  },
  {
   "cell_type": "markdown",
   "id": "6ab2bdfa-a4df-442d-b683-82e0ed0a737b",
   "metadata": {},
   "source": [
    "I think the r^2 threshold feature is particularly useful...and was requested ;) "
   ]
  },
  {
   "cell_type": "code",
   "execution_count": null,
   "id": "5607e9a1-a1d3-464a-b8ff-271c84d095ae",
   "metadata": {},
   "outputs": [],
   "source": [
    "visualize_methods.set_rsq_threshold(2)"
   ]
  },
  {
   "cell_type": "markdown",
   "id": "000a7a32-5c34-4a43-817e-8976f8e80062",
   "metadata": {},
   "source": [
    "You can also undo this if you want, going back to no threshold "
   ]
  },
  {
   "cell_type": "code",
   "execution_count": null,
   "id": "d237529a-57b7-4a58-b45a-867f720dbced",
   "metadata": {},
   "outputs": [],
   "source": [
    "visualize_methods.reset_rsq_threshold()"
   ]
  },
  {
   "cell_type": "markdown",
   "id": "949f5903-a993-44af-b34f-b80caccafe87",
   "metadata": {},
   "source": [
    "### include features\n",
    "This method excludes all features not in this list.\n",
    "It's is particularly useful if you don't want to pass in a big list of parameters into the plot functions. "
   ]
  },
  {
   "cell_type": "code",
   "execution_count": null,
   "id": "2305a88d-0c8c-45b7-82f0-bcc99d02acc9",
   "metadata": {},
   "outputs": [],
   "source": [
    "visualize_methods.inlude_features(list(my_dataframe.columns)[0:5])"
   ]
  },
  {
   "cell_type": "markdown",
   "id": "9c20b65a-d4a8-4d04-b7b5-4f89dde9fe47",
   "metadata": {},
   "source": [
    "### reset plotting dataframe\n",
    "You can reset this if you want all your features back \n",
    "(but remember, this isn't changing your dataframe, just the dataframe used to plot)"
   ]
  },
  {
   "cell_type": "code",
   "execution_count": null,
   "id": "433ff235-668b-47ec-9ef2-3af64a026895",
   "metadata": {},
   "outputs": [],
   "source": [
    "visualize_methods.reset_df()"
   ]
  },
  {
   "cell_type": "markdown",
   "id": "949fc5e4-ce39-40b2-bda4-f6cd3c5ffae3",
   "metadata": {},
   "source": [
    "### exclude features \n",
    "You can list the features you don't want to plot and they will be eliminated from the plotting dataframe (not from your original dataframe).\n",
    "\n",
    "If you want to exclude only one feature, just pass in a list with one element."
   ]
  },
  {
   "cell_type": "code",
   "execution_count": null,
   "id": "b1b2a873-b759-4027-9d81-cc81459c6a49",
   "metadata": {},
   "outputs": [],
   "source": [
    "visualize_methods.exclude_features([\"virtual\"])"
   ]
  },
  {
   "cell_type": "code",
   "execution_count": null,
   "id": "bfda3e19-0a95-4ea9-965f-94553ce60be8",
   "metadata": {},
   "outputs": [],
   "source": [
    "visualize_methods.reset_df()"
   ]
  },
  {
   "cell_type": "markdown",
   "id": "e44234b7-e409-4442-9d80-6ed09f45a2b3",
   "metadata": {},
   "source": [
    "## Histogram"
   ]
  },
  {
   "cell_type": "markdown",
   "id": "9660a2b7-7955-419d-ba36-120f6e9eaa88",
   "metadata": {},
   "source": [
    "You can plot for one specific column"
   ]
  },
  {
   "cell_type": "code",
   "execution_count": null,
   "id": "6e6a64bc-188a-4e42-95c5-a2ba937fed49",
   "metadata": {},
   "outputs": [],
   "source": [
    "visualize_methods.build_hist([\"s2_3.5h_%yield(avg)\"])"
   ]
  },
  {
   "cell_type": "markdown",
   "id": "22000d15-cb8f-4e4b-bf17-b4edd69be63f",
   "metadata": {},
   "source": [
    "A list of columns produces multiple plots (uncomment to view)"
   ]
  },
  {
   "cell_type": "code",
   "execution_count": null,
   "id": "35a07e0f-45fa-409e-826b-2761b4374840",
   "metadata": {},
   "outputs": [],
   "source": [
    "#visualize_methods.build_hist([\"s2_1h_%yield\", \"s2_3.5h_%yield(avg)\", \"s2_21h_%yield\"])"
   ]
  },
  {
   "cell_type": "markdown",
   "id": "825e3a91-f0cb-4059-a43f-092d464d513a",
   "metadata": {},
   "source": [
    "Or all of them: no parameters provides a plot for each column (uncomment to view)"
   ]
  },
  {
   "cell_type": "code",
   "execution_count": null,
   "id": "07897cb8-7c6f-4e78-b35b-dd6d29887629",
   "metadata": {},
   "outputs": [],
   "source": [
    "# visualize_methods.build_hist()"
   ]
  },
  {
   "cell_type": "markdown",
   "id": "bf2b0125-2c02-4647-8ee1-b0da0ec541ae",
   "metadata": {},
   "source": [
    "## Univariate Regression Visualization"
   ]
  },
  {
   "cell_type": "markdown",
   "id": "b6b553e6-82e6-4009-b92d-5311172834fa",
   "metadata": {},
   "source": [
    "* if you don't add a list of columns, it will produce a plot for all columns\n",
    "* if you don't specify y, it will be an n-dimensional zero vector.\n",
    "* a list of columns produces multiple plots\n",
    "* if you want all of the columns, don't specify cols, but explicitly specify y. "
   ]
  },
  {
   "cell_type": "code",
   "execution_count": null,
   "id": "a464395b-9e4c-4c1f-9357-898470212400",
   "metadata": {},
   "outputs": [],
   "source": [
    "visualize_methods.build_univar(cols=[\"s2_3.5h_%yield(avg)\"], y=my_dataframe[\"s4_21h_%yield\"])"
   ]
  },
  {
   "cell_type": "markdown",
   "id": "9054de8a-eb4b-4a5a-85c3-4bb2469e026c",
   "metadata": {},
   "source": [
    "Pass in a list of more than one x column name, along with a y column name (un-comment this line):"
   ]
  },
  {
   "cell_type": "code",
   "execution_count": null,
   "id": "49d5b08c-3ec7-4f9a-961b-650328b4176b",
   "metadata": {},
   "outputs": [],
   "source": [
    "#visualize_methods.build_univar(cols=[\"s2_3.5h_%yield(avg)\", \"s4_21h_%yield\"], y=my_dataframe[\"s2_3.5h_%yield(avg)\"])"
   ]
  },
  {
   "cell_type": "markdown",
   "id": "4e8f1b70-f34d-4984-93a3-bd4e23a07317",
   "metadata": {},
   "source": [
    "Pass in a y column, but no x column names (un-comment this line):"
   ]
  },
  {
   "cell_type": "code",
   "execution_count": null,
   "id": "a694f4c1-7f17-4a4f-a411-aba24b472fb3",
   "metadata": {},
   "outputs": [],
   "source": [
    "#visualize_methods.build_univar(y=my_dataframe[\"s2_3.5h_%yield(avg)\"])"
   ]
  },
  {
   "cell_type": "markdown",
   "id": "975aedaf-5e76-4cca-b25c-a8d3ab306604",
   "metadata": {},
   "source": [
    "Pass in an x column name, but no y column name (un-comment this line):"
   ]
  },
  {
   "cell_type": "code",
   "execution_count": null,
   "id": "407d5e9c-ff00-4f1a-a33c-5b0a81305c6a",
   "metadata": {},
   "outputs": [],
   "source": [
    "#visualize_methods.build_univar(cols=[\"s2_1h_%yield\"])"
   ]
  },
  {
   "cell_type": "markdown",
   "id": "84e9b579-e7ae-4f23-909d-806222387725",
   "metadata": {},
   "source": [
    "## Hist & Univariate Regression Plots (Side-by-Side)"
   ]
  },
  {
   "cell_type": "markdown",
   "id": "90f3f37c-0bb2-49bc-aba9-7fef0ba4d9f6",
   "metadata": {},
   "source": [
    "You can pass in as many X columns as you want to compare, but only for one y column at a time."
   ]
  },
  {
   "cell_type": "code",
   "execution_count": null,
   "id": "0196f2b7-24d9-432b-86b3-c6546b0591ea",
   "metadata": {},
   "outputs": [],
   "source": [
    "visualize_methods.show_hist_univar_pairs(cols=['s2_1h_%yield', 's4_21h_%yield'], y=my_dataframe['s2_21h_%yield'])"
   ]
  },
  {
   "cell_type": "markdown",
   "id": "2af5f02e-7c57-43ea-9116-99c7e0af5c80",
   "metadata": {},
   "source": [
    "There is error handling in the class. So you will get the plots you want, and a message will come up if one of the plots couldn't be made."
   ]
  },
  {
   "cell_type": "code",
   "execution_count": null,
   "id": "6a5976e9-e811-4c17-90f6-b7a9a067ee1e",
   "metadata": {},
   "outputs": [],
   "source": [
    "visualize_methods.show_hist_univar_pairs(cols=['s2_1h_%yield', 'hello'], y=my_dataframe['s2_21h_%yield'])"
   ]
  },
  {
   "cell_type": "markdown",
   "id": "11fc4e4d-45ee-4f83-91e8-704bae653c6a",
   "metadata": {},
   "source": [
    "## Bubble Plots\n",
    "\n",
    "Similarly to the histogram and univariate regression plots, you can pass in more-than one x. "
   ]
  },
  {
   "cell_type": "code",
   "execution_count": null,
   "id": "77af7d71-3ca2-48da-a339-aacb635ccd93",
   "metadata": {},
   "outputs": [],
   "source": [
    "read_methods.read_excel_file(\"../model_oct_bothsubs\"+\".xlsx\", \"bubbleplot\", 4, rows_start, rows_stop, cols_start, cols_stop)\n",
    "read_methods.drop_row(0)\n",
    "#to get a copy of what the reader class created (so you can do your own stuff on it), call get_dataframe\n",
    "my_dataframe = read_methods.get_dataframe()\n",
    "my_dataframe.head()"
   ]
  },
  {
   "cell_type": "markdown",
   "id": "fbf69d89-47ca-422d-8ae2-69fbf663148b",
   "metadata": {},
   "source": [
    "Example for plotting a feature list with only one column"
   ]
  },
  {
   "cell_type": "code",
   "execution_count": null,
   "id": "0e440f6d-9947-4efb-81c9-769e4bfdc004",
   "metadata": {},
   "outputs": [],
   "source": [
    "visualize_methods.build_bubble_plot(features = ['s2_1h_%yield'], bp_x = my_dataframe['s4_21h_%yield'], bp_y = my_dataframe['x73'], bp_size = my_dataframe['s2_21h_%yield'])"
   ]
  },
  {
   "cell_type": "markdown",
   "id": "e4d21266-48d9-4601-95bb-9cc15ee183fb",
   "metadata": {},
   "source": [
    "Example using multiple features"
   ]
  },
  {
   "cell_type": "code",
   "execution_count": null,
   "id": "0f9ec133-1ac4-40be-b3cb-bed43dd750a4",
   "metadata": {},
   "outputs": [],
   "source": [
    "feature_list = [\"s2_3.5h_%yield(avg)\", 's4_1h_%yield']"
   ]
  },
  {
   "cell_type": "code",
   "execution_count": null,
   "id": "c51bdaa0-c6d7-4055-ac74-74a8b7a0c341",
   "metadata": {},
   "outputs": [],
   "source": [
    "visualize_methods.build_bubble_plot(features = feature_list, bp_x = my_dataframe[\"x49\"], bp_y = my_dataframe['x73'], bp_size = my_dataframe['s2_21h_%yield'])\n"
   ]
  },
  {
   "cell_type": "markdown",
   "id": "1ccc1e1f-f2f2-4c54-8d27-f034e35ab7bf",
   "metadata": {},
   "source": [
    "## using \"virtual\" feature"
   ]
  },
  {
   "cell_type": "code",
   "execution_count": null,
   "id": "a2d36faf-8c56-467e-bec6-66f550a6087c",
   "metadata": {},
   "outputs": [],
   "source": [
    "visualize_methods.build_bubble_plot_virtual(features = ['s2_1h_%yield'], bp_x = my_dataframe[\"x49\"], bp_y = my_dataframe[\"x73\"], bp_size = my_dataframe[\"s2_3.5h_%yield(avg)\"])"
   ]
  },
  {
   "cell_type": "markdown",
   "id": "0a45cedd-19d6-4921-8a18-141b385a33ea",
   "metadata": {},
   "source": [
    "## Correlation map"
   ]
  },
  {
   "cell_type": "code",
   "execution_count": null,
   "id": "8c218add-0880-4c7c-813a-2a69c28125f1",
   "metadata": {},
   "outputs": [],
   "source": [
    "my_dataframe.columns"
   ]
  },
  {
   "cell_type": "code",
   "execution_count": null,
   "id": "70a17890-7ece-4860-ace0-2385136bd2db",
   "metadata": {},
   "outputs": [],
   "source": [
    "feature_list = ['s2_1h_%yield', 's2_3.5h_%yield(avg)',\n",
    "       's2_21h_%yield', 's4_1h_%yield', 's4_3.5h_%yield(avg)', 's4_21h_%yield']\n",
    "visualize_methods.correlation_map(feature_list)"
   ]
  }
 ],
 "metadata": {
  "kernelspec": {
   "display_name": "Python 3 (ipykernel)",
   "language": "python",
   "name": "python3"
  },
  "language_info": {
   "codemirror_mode": {
    "name": "ipython",
    "version": 3
   },
   "file_extension": ".py",
   "mimetype": "text/x-python",
   "name": "python",
   "nbconvert_exporter": "python",
   "pygments_lexer": "ipython3",
   "version": "3.9.10"
  }
 },
 "nbformat": 4,
 "nbformat_minor": 5
}
