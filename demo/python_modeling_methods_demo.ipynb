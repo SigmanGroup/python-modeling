{
 "cells": [
  {
   "cell_type": "code",
   "execution_count": 1,
   "id": "a25e7522-ba56-47d3-b61e-9cad01a40c5b",
   "metadata": {},
   "outputs": [
    {
     "data": {
      "text/plain": [
       "'/Users/annabell/UofU/Sigman/python-modeling/demo'"
      ]
     },
     "execution_count": 1,
     "metadata": {},
     "output_type": "execute_result"
    }
   ],
   "source": [
    "pwd"
   ]
  },
  {
   "cell_type": "code",
   "execution_count": 2,
   "id": "ed75c72a-f945-4870-a3de-96fde479b06c",
   "metadata": {},
   "outputs": [
    {
     "name": "stdout",
     "output_type": "stream",
     "text": [
      "* \u001b[32manna\u001b[m\n",
      "  master\u001b[m\n"
     ]
    }
   ],
   "source": [
    "!git branch"
   ]
  },
  {
   "cell_type": "code",
   "execution_count": 3,
   "id": "1add4cec-1bbb-4ff1-809e-506b8701bb47",
   "metadata": {},
   "outputs": [],
   "source": [
    "import pandas as pd"
   ]
  },
  {
   "cell_type": "code",
   "execution_count": 4,
   "id": "afa4e65c-8598-4268-8ba3-b7804c72f93c",
   "metadata": {},
   "outputs": [],
   "source": [
    "#how to access the class\n",
    "from reading_data import modeling_methods\n",
    "lab_methods = modeling_methods()"
   ]
  },
  {
   "cell_type": "markdown",
   "id": "6b9cf746-3baa-4222-841c-3744a148bfed",
   "metadata": {},
   "source": [
    "# Get data using \"single file\" as function (no changes from original file)"
   ]
  },
  {
   "cell_type": "code",
   "execution_count": 5,
   "id": "22225d50-5cdf-4e15-a9fc-b643868823ff",
   "metadata": {},
   "outputs": [
    {
     "ename": "NameError",
     "evalue": "name 'num_par' is not defined",
     "output_type": "error",
     "traceback": [
      "\u001b[0;31m---------------------------------------------------------------------------\u001b[0m",
      "\u001b[0;31mNameError\u001b[0m                                 Traceback (most recent call last)",
      "\u001b[0;32m<ipython-input-5-36c277fe79a6>\u001b[0m in \u001b[0;36m<module>\u001b[0;34m\u001b[0m\n\u001b[0;32m----> 1\u001b[0;31m \u001b[0mlab_methods\u001b[0m\u001b[0;34m.\u001b[0m\u001b[0mread_single_file\u001b[0m\u001b[0;34m(\u001b[0m\u001b[0;34m)\u001b[0m \u001b[0;31m#using default params\u001b[0m\u001b[0;34m\u001b[0m\u001b[0;34m\u001b[0m\u001b[0m\n\u001b[0m",
      "\u001b[0;32m~/UofU/Sigman/python-modeling/demo/reading_data.py\u001b[0m in \u001b[0;36mread_single_file\u001b[0;34m(self, excel_file, excel_sheet, header_row, num_pars, par_start_col, num_samples, response_col, y_label_col, apply_mask, verbose, xlabelrow)\u001b[0m\n\u001b[1;32m     38\u001b[0m     \"\"\"\n\u001b[1;32m     39\u001b[0m     \u001b[0;32mdef\u001b[0m \u001b[0mread_single_file\u001b[0m\u001b[0;34m(\u001b[0m\u001b[0mself\u001b[0m\u001b[0;34m,\u001b[0m \u001b[0mexcel_file\u001b[0m\u001b[0;34m=\u001b[0m\u001b[0;34m\"../model_oct_bothsubs\"\u001b[0m\u001b[0;34m,\u001b[0m \u001b[0mexcel_sheet\u001b[0m\u001b[0;34m=\u001b[0m\u001b[0;34m\"bubbleplot\"\u001b[0m\u001b[0;34m,\u001b[0m \u001b[0mheader_row\u001b[0m\u001b[0;34m=\u001b[0m\u001b[0;36m4\u001b[0m\u001b[0;34m,\u001b[0m \u001b[0mnum_pars\u001b[0m\u001b[0;34m=\u001b[0m\u001b[0;36m2\u001b[0m\u001b[0;34m,\u001b[0m \u001b[0mpar_start_col\u001b[0m\u001b[0;34m=\u001b[0m\u001b[0;36m9\u001b[0m\u001b[0;34m,\u001b[0m \u001b[0mnum_samples\u001b[0m\u001b[0;34m=\u001b[0m\u001b[0;36m24\u001b[0m\u001b[0;34m,\u001b[0m \u001b[0mresponse_col\u001b[0m\u001b[0;34m=\u001b[0m\u001b[0;36m5\u001b[0m\u001b[0;34m,\u001b[0m \u001b[0my_label_col\u001b[0m \u001b[0;34m=\u001b[0m \u001b[0;36m0\u001b[0m\u001b[0;34m,\u001b[0m \u001b[0mapply_mask\u001b[0m\u001b[0;34m=\u001b[0m\u001b[0;32mTrue\u001b[0m\u001b[0;34m,\u001b[0m \u001b[0mverbose\u001b[0m\u001b[0;34m=\u001b[0m\u001b[0;32mTrue\u001b[0m\u001b[0;34m,\u001b[0m \u001b[0mxlabelrow\u001b[0m\u001b[0;34m=\u001b[0m\u001b[0;32mTrue\u001b[0m\u001b[0;34m)\u001b[0m\u001b[0;34m:\u001b[0m\u001b[0;34m\u001b[0m\u001b[0;34m\u001b[0m\u001b[0m\n\u001b[0;32m---> 40\u001b[0;31m         \u001b[0minp\u001b[0m \u001b[0;34m=\u001b[0m \u001b[0mpd\u001b[0m\u001b[0;34m.\u001b[0m\u001b[0mread_excel\u001b[0m\u001b[0;34m(\u001b[0m\u001b[0mexcel_file\u001b[0m \u001b[0;34m+\u001b[0m \u001b[0;34m\".xlsx\"\u001b[0m\u001b[0;34m,\u001b[0m \u001b[0mexcel_sheet\u001b[0m\u001b[0;34m,\u001b[0m \u001b[0mheader\u001b[0m\u001b[0;34m=\u001b[0m\u001b[0mheader_row\u001b[0m\u001b[0;34m,\u001b[0m \u001b[0mindex_col\u001b[0m\u001b[0;34m=\u001b[0m\u001b[0my_label_col\u001b[0m\u001b[0;34m,\u001b[0m \u001b[0mnrows\u001b[0m\u001b[0;34m=\u001b[0m\u001b[0mnum_samples\u001b[0m \u001b[0;34m+\u001b[0m \u001b[0mint\u001b[0m\u001b[0;34m(\u001b[0m\u001b[0mxlabelrow\u001b[0m\u001b[0;34m)\u001b[0m\u001b[0;34m,\u001b[0m \u001b[0musecols\u001b[0m\u001b[0;34m=\u001b[0m\u001b[0mlist\u001b[0m\u001b[0;34m(\u001b[0m\u001b[0mrange\u001b[0m\u001b[0;34m(\u001b[0m\u001b[0;36m0\u001b[0m\u001b[0;34m,\u001b[0m \u001b[0;34m(\u001b[0m\u001b[0mnum_par\u001b[0m \u001b[0;34m+\u001b[0m \u001b[0mpar_start_col\u001b[0m\u001b[0;34m)\u001b[0m\u001b[0;34m)\u001b[0m\u001b[0;34m)\u001b[0m\u001b[0;34m)\u001b[0m\u001b[0;34m\u001b[0m\u001b[0;34m\u001b[0m\u001b[0m\n\u001b[0m\u001b[1;32m     41\u001b[0m         \u001b[0mprint\u001b[0m\u001b[0;34m(\u001b[0m\u001b[0minp\u001b[0m\u001b[0;34m.\u001b[0m\u001b[0mhead\u001b[0m\u001b[0;34m(\u001b[0m\u001b[0;34m)\u001b[0m\u001b[0;34m)\u001b[0m\u001b[0;34m\u001b[0m\u001b[0;34m\u001b[0m\u001b[0m\n\u001b[1;32m     42\u001b[0m         \u001b[0mprint\u001b[0m\u001b[0;34m(\u001b[0m\u001b[0;34m)\u001b[0m\u001b[0;34m\u001b[0m\u001b[0;34m\u001b[0m\u001b[0m\n",
      "\u001b[0;31mNameError\u001b[0m: name 'num_par' is not defined"
     ]
    }
   ],
   "source": [
    "lab_methods.read_single_file() #using default params"
   ]
  },
  {
   "cell_type": "markdown",
   "id": "7fff79af-675c-498f-9d2c-20064f859e90",
   "metadata": {},
   "source": [
    "# Dynamic File Reader Options (Simplified Implementation)"
   ]
  },
  {
   "cell_type": "code",
   "execution_count": 16,
   "id": "1dfd8feb-287c-4958-8342-6402eb2aa541",
   "metadata": {},
   "outputs": [],
   "source": [
    "lab_methods.read_excel_file(\"../model_oct_bothsubs\"+\".xlsx\")"
   ]
  },
  {
   "cell_type": "code",
   "execution_count": 17,
   "id": "9bdf6111-538b-484d-9894-a790335ec2a7",
   "metadata": {},
   "outputs": [
    {
     "data": {
      "text/html": [
       "<div>\n",
       "<style scoped>\n",
       "    .dataframe tbody tr th:only-of-type {\n",
       "        vertical-align: middle;\n",
       "    }\n",
       "\n",
       "    .dataframe tbody tr th {\n",
       "        vertical-align: top;\n",
       "    }\n",
       "\n",
       "    .dataframe thead th {\n",
       "        text-align: right;\n",
       "    }\n",
       "</style>\n",
       "<table border=\"1\" class=\"dataframe\">\n",
       "  <thead>\n",
       "    <tr style=\"text-align: right;\">\n",
       "      <th></th>\n",
       "      <th>0</th>\n",
       "      <th>Unnamed: 1</th>\n",
       "      <th>1</th>\n",
       "      <th>2</th>\n",
       "      <th>3</th>\n",
       "      <th>4</th>\n",
       "      <th>5</th>\n",
       "      <th>6</th>\n",
       "      <th>Unnamed: 8</th>\n",
       "      <th>55</th>\n",
       "      <th>79</th>\n",
       "    </tr>\n",
       "  </thead>\n",
       "  <tbody>\n",
       "    <tr>\n",
       "      <th>3</th>\n",
       "      <td>ID</td>\n",
       "      <td>SMILES</td>\n",
       "      <td>s2_1h_%yield</td>\n",
       "      <td>s2_3.5h_%yield(avg)</td>\n",
       "      <td>s2_21h_%yield</td>\n",
       "      <td>s4_1h_%yield</td>\n",
       "      <td>s4_3.5h_%yield(avg)</td>\n",
       "      <td>s4_21h_%yield</td>\n",
       "      <td>virtual</td>\n",
       "      <td>x49</td>\n",
       "      <td>x73</td>\n",
       "    </tr>\n",
       "    <tr>\n",
       "      <th>4</th>\n",
       "      <td>ID</td>\n",
       "      <td>SMILES</td>\n",
       "      <td>s2_1h_%yield</td>\n",
       "      <td>s2_3.5h_%yield(avg)</td>\n",
       "      <td>s2_21h_%yield</td>\n",
       "      <td>s4_1h_%yield</td>\n",
       "      <td>s4_3.5h_%yield(avg)</td>\n",
       "      <td>s4_21h_%yield</td>\n",
       "      <td>virtual</td>\n",
       "      <td>nbo_N_oxamide_max</td>\n",
       "      <td>nbo_aryl_sub_=O_max_max</td>\n",
       "    </tr>\n",
       "    <tr>\n",
       "      <th>5</th>\n",
       "      <td>L1</td>\n",
       "      <td>c1cc(c(c(c1)S(=O)(=O)N2CCCCC2)NC(=O)C(=O)O)F</td>\n",
       "      <td>18</td>\n",
       "      <td>55.5</td>\n",
       "      <td>92</td>\n",
       "      <td>6</td>\n",
       "      <td>27.666667</td>\n",
       "      <td>69</td>\n",
       "      <td>0</td>\n",
       "      <td>-0.59232</td>\n",
       "      <td>-0.89851</td>\n",
       "    </tr>\n",
       "    <tr>\n",
       "      <th>6</th>\n",
       "      <td>L2</td>\n",
       "      <td>COc1cc(c(c(c1)S(=O)(=O)N2CCCCC2)NC(=O)C(=O)O)F</td>\n",
       "      <td>9</td>\n",
       "      <td>36.333333</td>\n",
       "      <td>92</td>\n",
       "      <td>6</td>\n",
       "      <td>27</td>\n",
       "      <td>65</td>\n",
       "      <td>0</td>\n",
       "      <td>-0.5878</td>\n",
       "      <td>-0.9073</td>\n",
       "    </tr>\n",
       "    <tr>\n",
       "      <th>7</th>\n",
       "      <td>L3</td>\n",
       "      <td>COc1cc(c(c(c1)S(=O)(=O)N2CCCCC2)NC(=O)C(=O)O)OC</td>\n",
       "      <td>6</td>\n",
       "      <td>19.666667</td>\n",
       "      <td>73</td>\n",
       "      <td>2</td>\n",
       "      <td>11.333333</td>\n",
       "      <td>57</td>\n",
       "      <td>0</td>\n",
       "      <td>-0.57818</td>\n",
       "      <td>-0.90199</td>\n",
       "    </tr>\n",
       "    <tr>\n",
       "      <th>...</th>\n",
       "      <td>...</td>\n",
       "      <td>...</td>\n",
       "      <td>...</td>\n",
       "      <td>...</td>\n",
       "      <td>...</td>\n",
       "      <td>...</td>\n",
       "      <td>...</td>\n",
       "      <td>...</td>\n",
       "      <td>...</td>\n",
       "      <td>...</td>\n",
       "      <td>...</td>\n",
       "    </tr>\n",
       "    <tr>\n",
       "      <th>68</th>\n",
       "      <td>test_040</td>\n",
       "      <td>NaN</td>\n",
       "      <td>0</td>\n",
       "      <td>0</td>\n",
       "      <td>0</td>\n",
       "      <td>0</td>\n",
       "      <td>0</td>\n",
       "      <td>0</td>\n",
       "      <td>1</td>\n",
       "      <td>-0.59292</td>\n",
       "      <td>-0.90833</td>\n",
       "    </tr>\n",
       "    <tr>\n",
       "      <th>69</th>\n",
       "      <td>test_041</td>\n",
       "      <td>NaN</td>\n",
       "      <td>0</td>\n",
       "      <td>0</td>\n",
       "      <td>0</td>\n",
       "      <td>0</td>\n",
       "      <td>0</td>\n",
       "      <td>0</td>\n",
       "      <td>1</td>\n",
       "      <td>-0.59323</td>\n",
       "      <td>-0.89339</td>\n",
       "    </tr>\n",
       "    <tr>\n",
       "      <th>70</th>\n",
       "      <td>test_042</td>\n",
       "      <td>NaN</td>\n",
       "      <td>0</td>\n",
       "      <td>0</td>\n",
       "      <td>0</td>\n",
       "      <td>0</td>\n",
       "      <td>0</td>\n",
       "      <td>0</td>\n",
       "      <td>1</td>\n",
       "      <td>-0.59277</td>\n",
       "      <td>-0.90862</td>\n",
       "    </tr>\n",
       "    <tr>\n",
       "      <th>71</th>\n",
       "      <td>test_043</td>\n",
       "      <td>NaN</td>\n",
       "      <td>0</td>\n",
       "      <td>0</td>\n",
       "      <td>0</td>\n",
       "      <td>0</td>\n",
       "      <td>0</td>\n",
       "      <td>0</td>\n",
       "      <td>1</td>\n",
       "      <td>-0.59967</td>\n",
       "      <td>-0.89468</td>\n",
       "    </tr>\n",
       "    <tr>\n",
       "      <th>72</th>\n",
       "      <td>test_044</td>\n",
       "      <td>NaN</td>\n",
       "      <td>0</td>\n",
       "      <td>0</td>\n",
       "      <td>0</td>\n",
       "      <td>0</td>\n",
       "      <td>0</td>\n",
       "      <td>0</td>\n",
       "      <td>1</td>\n",
       "      <td>-0.59652</td>\n",
       "      <td>-0.88924</td>\n",
       "    </tr>\n",
       "  </tbody>\n",
       "</table>\n",
       "<p>70 rows × 11 columns</p>\n",
       "</div>"
      ],
      "text/plain": [
       "           0                                       Unnamed: 1             1  \\\n",
       "3         ID                                           SMILES  s2_1h_%yield   \n",
       "4         ID                                           SMILES  s2_1h_%yield   \n",
       "5         L1     c1cc(c(c(c1)S(=O)(=O)N2CCCCC2)NC(=O)C(=O)O)F            18   \n",
       "6         L2   COc1cc(c(c(c1)S(=O)(=O)N2CCCCC2)NC(=O)C(=O)O)F             9   \n",
       "7         L3  COc1cc(c(c(c1)S(=O)(=O)N2CCCCC2)NC(=O)C(=O)O)OC             6   \n",
       "..       ...                                              ...           ...   \n",
       "68  test_040                                              NaN             0   \n",
       "69  test_041                                              NaN             0   \n",
       "70  test_042                                              NaN             0   \n",
       "71  test_043                                              NaN             0   \n",
       "72  test_044                                              NaN             0   \n",
       "\n",
       "                      2              3             4                    5  \\\n",
       "3   s2_3.5h_%yield(avg)  s2_21h_%yield  s4_1h_%yield  s4_3.5h_%yield(avg)   \n",
       "4   s2_3.5h_%yield(avg)  s2_21h_%yield  s4_1h_%yield  s4_3.5h_%yield(avg)   \n",
       "5                  55.5             92             6            27.666667   \n",
       "6             36.333333             92             6                   27   \n",
       "7             19.666667             73             2            11.333333   \n",
       "..                  ...            ...           ...                  ...   \n",
       "68                    0              0             0                    0   \n",
       "69                    0              0             0                    0   \n",
       "70                    0              0             0                    0   \n",
       "71                    0              0             0                    0   \n",
       "72                    0              0             0                    0   \n",
       "\n",
       "                6 Unnamed: 8                 55                       79  \n",
       "3   s4_21h_%yield    virtual                x49                      x73  \n",
       "4   s4_21h_%yield    virtual  nbo_N_oxamide_max  nbo_aryl_sub_=O_max_max  \n",
       "5              69          0           -0.59232                 -0.89851  \n",
       "6              65          0            -0.5878                  -0.9073  \n",
       "7              57          0           -0.57818                 -0.90199  \n",
       "..            ...        ...                ...                      ...  \n",
       "68              0          1           -0.59292                 -0.90833  \n",
       "69              0          1           -0.59323                 -0.89339  \n",
       "70              0          1           -0.59277                 -0.90862  \n",
       "71              0          1           -0.59967                 -0.89468  \n",
       "72              0          1           -0.59652                 -0.88924  \n",
       "\n",
       "[70 rows x 11 columns]"
      ]
     },
     "execution_count": 17,
     "metadata": {},
     "output_type": "execute_result"
    }
   ],
   "source": [
    "lab_methods.df"
   ]
  }
 ],
 "metadata": {
  "kernelspec": {
   "display_name": "Python 3",
   "language": "python",
   "name": "python3"
  },
  "language_info": {
   "codemirror_mode": {
    "name": "ipython",
    "version": 3
   },
   "file_extension": ".py",
   "mimetype": "text/x-python",
   "name": "python",
   "nbconvert_exporter": "python",
   "pygments_lexer": "ipython3",
   "version": "3.8.8"
  }
 },
 "nbformat": 4,
 "nbformat_minor": 5
}
