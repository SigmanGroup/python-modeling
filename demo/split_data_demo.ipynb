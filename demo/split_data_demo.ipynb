{
 "cells": [
  {
   "cell_type": "code",
   "execution_count": 1,
   "id": "6554dc95-681c-4d37-892e-7d645e376c36",
   "metadata": {},
   "outputs": [],
   "source": [
    "from split_data import split_data\n",
    "split_methods = split_data()\n",
    "from reading_data import read_excel_file\n",
    "read_methods = read_excel_file()"
   ]
  },
  {
   "cell_type": "code",
   "execution_count": 2,
   "id": "fcb1d5f8-0489-4ebd-acdb-0ffeb5576fd5",
   "metadata": {},
   "outputs": [
    {
     "data": {
      "text/html": [
       "<div>\n",
       "<style scoped>\n",
       "    .dataframe tbody tr th:only-of-type {\n",
       "        vertical-align: middle;\n",
       "    }\n",
       "\n",
       "    .dataframe tbody tr th {\n",
       "        vertical-align: top;\n",
       "    }\n",
       "\n",
       "    .dataframe thead th {\n",
       "        text-align: right;\n",
       "    }\n",
       "</style>\n",
       "<table border=\"1\" class=\"dataframe\">\n",
       "  <thead>\n",
       "    <tr style=\"text-align: right;\">\n",
       "      <th></th>\n",
       "      <th>ID</th>\n",
       "      <th>SMILES</th>\n",
       "      <th>s2_1h_%yield</th>\n",
       "      <th>s2_3.5h_%yield(avg)</th>\n",
       "      <th>s2_21h_%yield</th>\n",
       "      <th>s4_1h_%yield</th>\n",
       "      <th>s4_3.5h_%yield(avg)</th>\n",
       "      <th>s4_21h_%yield</th>\n",
       "      <th>virtual</th>\n",
       "      <th>nbo_N_oxamide_max</th>\n",
       "      <th>nbo_aryl_sub_=O_max_max</th>\n",
       "    </tr>\n",
       "  </thead>\n",
       "  <tbody>\n",
       "    <tr>\n",
       "      <th>0</th>\n",
       "      <td>L1</td>\n",
       "      <td>c1cc(c(c(c1)S(=O)(=O)N2CCCCC2)NC(=O)C(=O)O)F</td>\n",
       "      <td>18</td>\n",
       "      <td>55.500000</td>\n",
       "      <td>92</td>\n",
       "      <td>6</td>\n",
       "      <td>27.666667</td>\n",
       "      <td>69</td>\n",
       "      <td>0</td>\n",
       "      <td>-0.59232</td>\n",
       "      <td>-0.89851</td>\n",
       "    </tr>\n",
       "    <tr>\n",
       "      <th>1</th>\n",
       "      <td>L2</td>\n",
       "      <td>COc1cc(c(c(c1)S(=O)(=O)N2CCCCC2)NC(=O)C(=O)O)F</td>\n",
       "      <td>9</td>\n",
       "      <td>36.333333</td>\n",
       "      <td>92</td>\n",
       "      <td>6</td>\n",
       "      <td>27.000000</td>\n",
       "      <td>65</td>\n",
       "      <td>0</td>\n",
       "      <td>-0.58780</td>\n",
       "      <td>-0.90730</td>\n",
       "    </tr>\n",
       "    <tr>\n",
       "      <th>2</th>\n",
       "      <td>L3</td>\n",
       "      <td>COc1cc(c(c(c1)S(=O)(=O)N2CCCCC2)NC(=O)C(=O)O)OC</td>\n",
       "      <td>6</td>\n",
       "      <td>19.666667</td>\n",
       "      <td>73</td>\n",
       "      <td>2</td>\n",
       "      <td>11.333333</td>\n",
       "      <td>57</td>\n",
       "      <td>0</td>\n",
       "      <td>-0.57818</td>\n",
       "      <td>-0.90199</td>\n",
       "    </tr>\n",
       "    <tr>\n",
       "      <th>3</th>\n",
       "      <td>L4</td>\n",
       "      <td>c1cc(c(c(c1)S(=O)(=O)N2CCOCC2)NC(=O)C(=O)O)F</td>\n",
       "      <td>17</td>\n",
       "      <td>57.666667</td>\n",
       "      <td>89</td>\n",
       "      <td>7</td>\n",
       "      <td>35.500000</td>\n",
       "      <td>61</td>\n",
       "      <td>0</td>\n",
       "      <td>-0.59187</td>\n",
       "      <td>-0.89612</td>\n",
       "    </tr>\n",
       "    <tr>\n",
       "      <th>4</th>\n",
       "      <td>L5</td>\n",
       "      <td>CN1CCN(CC1)S(=O)(=O)c2cccc(c2NC(=O)C(=O)[O-])F...</td>\n",
       "      <td>8</td>\n",
       "      <td>48.333333</td>\n",
       "      <td>83</td>\n",
       "      <td>3</td>\n",
       "      <td>21.333333</td>\n",
       "      <td>55</td>\n",
       "      <td>0</td>\n",
       "      <td>-0.59182</td>\n",
       "      <td>-0.90570</td>\n",
       "    </tr>\n",
       "  </tbody>\n",
       "</table>\n",
       "</div>"
      ],
      "text/plain": [
       "   ID                                             SMILES  s2_1h_%yield  \\\n",
       "0  L1       c1cc(c(c(c1)S(=O)(=O)N2CCCCC2)NC(=O)C(=O)O)F            18   \n",
       "1  L2     COc1cc(c(c(c1)S(=O)(=O)N2CCCCC2)NC(=O)C(=O)O)F             9   \n",
       "2  L3    COc1cc(c(c(c1)S(=O)(=O)N2CCCCC2)NC(=O)C(=O)O)OC             6   \n",
       "3  L4       c1cc(c(c(c1)S(=O)(=O)N2CCOCC2)NC(=O)C(=O)O)F            17   \n",
       "4  L5  CN1CCN(CC1)S(=O)(=O)c2cccc(c2NC(=O)C(=O)[O-])F...             8   \n",
       "\n",
       "   s2_3.5h_%yield(avg)  s2_21h_%yield  s4_1h_%yield  s4_3.5h_%yield(avg)  \\\n",
       "0            55.500000             92             6            27.666667   \n",
       "1            36.333333             92             6            27.000000   \n",
       "2            19.666667             73             2            11.333333   \n",
       "3            57.666667             89             7            35.500000   \n",
       "4            48.333333             83             3            21.333333   \n",
       "\n",
       "   s4_21h_%yield  virtual  nbo_N_oxamide_max  nbo_aryl_sub_=O_max_max  \n",
       "0             69        0           -0.59232                 -0.89851  \n",
       "1             65        0           -0.58780                 -0.90730  \n",
       "2             57        0           -0.57818                 -0.90199  \n",
       "3             61        0           -0.59187                 -0.89612  \n",
       "4             55        0           -0.59182                 -0.90570  "
      ]
     },
     "execution_count": 2,
     "metadata": {},
     "output_type": "execute_result"
    }
   ],
   "source": [
    "header_col = 5\n",
    "rows_start = 0\n",
    "rows_stop = 24\n",
    "cols_start = 2\n",
    "cols_stop = 24\n",
    "\n",
    "read_methods.read_excel_file(\"../model_oct_bothsubs\"+\".xlsx\", \"bubbleplot\", header_col, rows_start, rows_stop, cols_start, cols_stop)\n",
    "my_dataframe = read_methods.get_dataframe()\n",
    "my_dataframe.head()"
   ]
  },
  {
   "cell_type": "code",
   "execution_count": 3,
   "id": "e0b226a1-0309-464a-aea1-2d2601cb24db",
   "metadata": {},
   "outputs": [
    {
     "data": {
      "text/plain": [
       "Index(['ID', 'SMILES', 's2_1h_%yield', 's2_3.5h_%yield(avg)', 's2_21h_%yield',\n",
       "       's4_1h_%yield', 's4_3.5h_%yield(avg)', 's4_21h_%yield', 'virtual',\n",
       "       'nbo_N_oxamide_max', 'nbo_aryl_sub_=O_max_max'],\n",
       "      dtype='object')"
      ]
     },
     "execution_count": 3,
     "metadata": {},
     "output_type": "execute_result"
    }
   ],
   "source": [
    "my_dataframe.columns"
   ]
  },
  {
   "cell_type": "code",
   "execution_count": 4,
   "id": "fb8a6eef-740d-4bbb-bb4e-40a1922211c5",
   "metadata": {},
   "outputs": [],
   "source": [
    "X_train, X_test, y_train, y_test = split_methods.random_split(my_dataframe['s2_1h_%yield'], my_dataframe['virtual'])"
   ]
  },
  {
   "cell_type": "code",
   "execution_count": 5,
   "id": "74743b28-69d6-46b1-8e6b-b09af63a7229",
   "metadata": {},
   "outputs": [
    {
     "name": "stdout",
     "output_type": "stream",
     "text": [
      "y_mean: 0.569\n",
      "y_mean: 0.882\n",
      "Shape X_train: (51,)\n",
      "Shape X_test:  (17,)\n"
     ]
    }
   ],
   "source": [
    "split_methods.view_split_results()"
   ]
  }
 ],
 "metadata": {
  "kernelspec": {
   "display_name": "Python 3 (ipykernel)",
   "language": "python",
   "name": "python3"
  },
  "language_info": {
   "codemirror_mode": {
    "name": "ipython",
    "version": 3
   },
   "file_extension": ".py",
   "mimetype": "text/x-python",
   "name": "python",
   "nbconvert_exporter": "python",
   "pygments_lexer": "ipython3",
   "version": "3.9.10"
  }
 },
 "nbformat": 4,
 "nbformat_minor": 5
}
