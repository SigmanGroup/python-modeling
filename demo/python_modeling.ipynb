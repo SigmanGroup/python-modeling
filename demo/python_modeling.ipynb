{
 "cells": [
  {
   "cell_type": "code",
   "execution_count": 3,
   "id": "64e8193d-a17f-4f20-91ea-8759a44fcf04",
   "metadata": {},
   "outputs": [],
   "source": [
    "from python_modeling_helper import my_dataframe"
   ]
  },
  {
   "cell_type": "code",
   "execution_count": null,
   "id": "35a065df-733e-48df-8aef-fd357625f500",
   "metadata": {},
   "outputs": [],
   "source": []
  }
 ],
 "metadata": {
  "kernelspec": {
   "display_name": "Python 3",
   "language": "python",
   "name": "python3"
  },
  "language_info": {
   "codemirror_mode": {
    "name": "ipython",
    "version": 3
   },
   "file_extension": ".py",
   "mimetype": "text/x-python",
   "name": "python",
   "nbconvert_exporter": "python",
   "pygments_lexer": "ipython3",
   "version": "3.8.8"
  }
 },
 "nbformat": 4,
 "nbformat_minor": 5
}
